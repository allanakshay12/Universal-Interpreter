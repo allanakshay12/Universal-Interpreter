{
 "cells": [
  {
   "cell_type": "code",
   "execution_count": 1,
   "metadata": {},
   "outputs": [
    {
     "name": "stdout",
     "output_type": "stream",
     "text": [
      "pygame 1.9.6\n",
      "Hello from the pygame community. https://www.pygame.org/contribute.html\n"
     ]
    },
    {
     "name": "stderr",
     "output_type": "stream",
     "text": [
      "C:\\Anaconda3\\lib\\site-packages\\h5py\\__init__.py:72: UserWarning: h5py is running against HDF5 1.10.2 when it was built against 1.10.3, this may cause problems\n",
      "  '{0}.{1}.{2}'.format(*version.hdf5_built_version_tuple)\n"
     ]
    },
    {
     "name": "stdout",
     "output_type": "stream",
     "text": [
      "WARNING:tensorflow:From C:\\Users\\Jerry Allan Akshay\\Jupyter Notebooks\\Universal Interpreter\\Universal Interpreter\\Universal-Interpreter\\classify_webcam.py:36: The name tf.gfile.GFile is deprecated. Please use tf.io.gfile.GFile instead.\n",
      "\n",
      "WARNING:tensorflow:From C:\\Users\\Jerry Allan Akshay\\Jupyter Notebooks\\Universal Interpreter\\Universal Interpreter\\Universal-Interpreter\\classify_webcam.py:39: FastGFile.__init__ (from tensorflow.python.platform.gfile) is deprecated and will be removed in a future version.\n",
      "Instructions for updating:\n",
      "Use tf.gfile.GFile.\n",
      "WARNING:tensorflow:From C:\\Users\\Jerry Allan Akshay\\Jupyter Notebooks\\Universal Interpreter\\Universal Interpreter\\Universal-Interpreter\\classify_webcam.py:40: The name tf.GraphDef is deprecated. Please use tf.compat.v1.GraphDef instead.\n",
      "\n",
      "WARNING:tensorflow:From C:\\Users\\Jerry Allan Akshay\\Jupyter Notebooks\\Universal Interpreter\\Universal Interpreter\\Universal-Interpreter\\classify_webcam.py:44: The name tf.Session is deprecated. Please use tf.compat.v1.Session instead.\n",
      "\n",
      "mo\n",
      "Press Enter to Continue\n",
      "_ _   _ _ _\n"
     ]
    }
   ],
   "source": [
    "import morse as mo\n",
    "import classify_webcam as cam\n",
    "cam.sess\n",
    "meta_file = open(\"meta_file.txt\",\"r\")\n",
    "mo.finalconversion(meta_file.read())\n",
    "meta_file.close()"
   ]
  },
  {
   "cell_type": "code",
   "execution_count": null,
   "metadata": {},
   "outputs": [],
   "source": []
  }
 ],
 "metadata": {
  "kernelspec": {
   "display_name": "Python 3",
   "language": "python",
   "name": "python3"
  },
  "language_info": {
   "codemirror_mode": {
    "name": "ipython",
    "version": 3
   },
   "file_extension": ".py",
   "mimetype": "text/x-python",
   "name": "python",
   "nbconvert_exporter": "python",
   "pygments_lexer": "ipython3",
   "version": "3.7.4"
  }
 },
 "nbformat": 4,
 "nbformat_minor": 2
}
